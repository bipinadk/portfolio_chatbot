{
 "cells": [
  {
   "cell_type": "markdown",
   "metadata": {
    "id": "JgVaS3C4aA_R"
   },
   "source": [
    "Signup for pinecone pod and create an index with dimentions 1536. I name mine index 'portfolio', so I will be using that name in the codes here after."
   ]
  },
  {
   "cell_type": "markdown",
   "metadata": {
    "id": "qGFFWnnhaT3I"
   },
   "source": [
    "Create a text file. A sample file is presented in the github repo. Keep in mind that you should include information that you want your chatbot to search for example, job, skills, etc etc. Also, since we are using texts, it is not a bad idea to use redundant information in the paragraph. Example: words like email, contact detail, getting on touch, etc are semantically closer, so you might use them in the paragraph describing your contact details. Divinding sections of text is also a good idea to keep relavent information close to each other. After that upload the .txt file in colab."
   ]
  },
  {
   "cell_type": "code",
   "execution_count": 1,
   "metadata": {},
   "outputs": [
    {
     "name": "stdout",
     "output_type": "stream",
     "text": [
      "# conda environments:\n",
      "#\n",
      "base                     C:\\Users\\bipna\\anaconda3\n",
      "gpuenv                   C:\\Users\\bipna\\anaconda3\\envs\\gpuenv\n",
      "odeuropa              *  C:\\Users\\bipna\\anaconda3\\envs\\odeuropa\n",
      "\n"
     ]
    }
   ],
   "source": [
    "!conda env list"
   ]
  },
  {
   "cell_type": "code",
   "execution_count": 19,
   "metadata": {
    "colab": {
     "base_uri": "https://localhost:8080/"
    },
    "id": "S800AmUeSpoz",
    "outputId": "8bb4d21a-3d1a-42e0-e43e-81abdb039dd7"
   },
   "outputs": [],
   "source": [
    "! pip install --upgrade --quiet  langchain-pinecone langchain-openai langchain pinecone-client[grpc]"
   ]
  },
  {
   "cell_type": "markdown",
   "metadata": {
    "id": "UCZ-MCpAontd"
   },
   "source": [
    "Import the text and split it using character splitter /n/n such that new paragraphs are its own chunks."
   ]
  },
  {
   "cell_type": "code",
   "execution_count": 2,
   "metadata": {
    "id": "lfmhgVVGY1PS"
   },
   "outputs": [],
   "source": [
    "## My file name is template.txt\n",
    "with open(\"../template.txt\") as f:\n",
    "    template = f.read()"
   ]
  },
  {
   "cell_type": "code",
   "execution_count": 3,
   "metadata": {
    "id": "ENIoV7WeYd9n"
   },
   "outputs": [],
   "source": [
    "from langchain.text_splitter import CharacterTextSplitter\n",
    "from langchain_community.document_loaders import TextLoader\n",
    "\n",
    "text_splitter = CharacterTextSplitter(\n",
    "    separator=\"\\n\\n\",\n",
    "    chunk_size=300,\n",
    "    chunk_overlap=0,\n",
    "    length_function=len,\n",
    "    is_separator_regex=False,\n",
    ")"
   ]
  },
  {
   "cell_type": "code",
   "execution_count": 4,
   "metadata": {
    "colab": {
     "base_uri": "https://localhost:8080/"
    },
    "id": "w5jEmHXeo7aX",
    "outputId": "226c2677-198b-4f00-8006-dbe37d9774de"
   },
   "outputs": [
    {
     "name": "stderr",
     "output_type": "stream",
     "text": [
      "Created a chunk of size 407, which is longer than the specified 300\n",
      "Created a chunk of size 509, which is longer than the specified 300\n",
      "Created a chunk of size 376, which is longer than the specified 300\n",
      "Created a chunk of size 717, which is longer than the specified 300\n",
      "Created a chunk of size 1337, which is longer than the specified 300\n",
      "Created a chunk of size 319, which is longer than the specified 300\n"
     ]
    },
    {
     "name": "stdout",
     "output_type": "stream",
     "text": [
      "This should be close to the number of paragraph your text has: 10\n"
     ]
    }
   ],
   "source": [
    "docs = text_splitter.create_documents([template])\n",
    "print('This should be close to the number of paragraph your text has:',len(docs))"
   ]
  },
  {
   "cell_type": "code",
   "execution_count": 10,
   "metadata": {
    "id": "1wk9A99Ju4mP"
   },
   "outputs": [],
   "source": [
    "## Put in API KEYS and environment variables\n",
    "import os\n",
    "\n",
    "os.environ[\"OPENAI_API_KEY\"] = \"\"\n",
    "os.environ['PINECONE_API_KEY'] = ''\n",
    "os.environ['PINECONE_INDEX_NAME'] = 'portfolio'"
   ]
  },
  {
   "cell_type": "code",
   "execution_count": 6,
   "metadata": {},
   "outputs": [
    {
     "name": "stdout",
     "output_type": "stream",
     "text": [
      "[Document(page_content=\"General information and Introduction about Bipin\\nBipin is a final year Master's Student in Data Science at Eurecom. He is working as an intern at Open Air Interface as a CI developer and ML engineer. He is passionate about leveraging AI/ML for innovative solutions. Bipin likes playing ping pong, boxing, fishing during rain, and hiking. Bipin is looking for a job in the field of Data and Machine Learning.\"), Document(page_content=\"Location Address\\nBipin Adhikari is originally from Nepal. He lives in Sophia Antipolis, France. Bipin has been in France since 2022. Bipin came here to do his Master's Degree in Data Science.\"), Document(page_content=\"Contact Information\\nBipin's email address is adhikari@eurecom.fr. His LinkedIn is linkedin.com/in/bipinadhikari101. He is happy to answer any additional inquiries and questions. His CV and resume can be downloaded from the website adhikari.pages.dev. His GitHub page is github.com/bipinadk\"), Document(page_content=\"Education University School Studies\\nBipin is currently studying Master's in Data Science at Eurecom, France to be completed in August 2024. Bipin completed his Bachelor in Hons Computing from UCSI University, Malaysia in 2022. His notable courses in his Master's Degree are Advanced Machine Learning, Advanced Statistics, Cloud Computing, Database Systems, and Image Processing. Among which his favorite was the course on Bayesian Machine Learning. In his Bachelors he focused highly on software development.\"), Document(page_content='Certificates \\nBipin has professional certificates in Machine Learning Specialization from the University of Washington, Mathematics for Machine Learning from Imperial College London, and also Creative Thinking: Techniques and Tools for Success from Imperial College London. He completed this specialization during the coronavirus pandemic when he wanted to better his skills.'), Document(page_content='Professional Experience\\nBipin is an CI developer at Open Air Interface (OAI). His is working on testing pipelines. Tools that he uses day to day are, Jenkins, Gitlab, Python pipelines, Docker images, Openshift cluster, bash scripts ,etc. \\nHe did the following things, Implemented docker swarm on the testing pipelines to centralize automatic deployment of testing containers. Revamped Python Code to introduce cross server multi container testing pipeline deployments. Migrated old pipelines to new deployment methods. Implemented Performance monitoring for the build and testing pipelines in all concurrent CI pipelines. Utilizing Log Analysis for classification of faulty part of the code based on past git diffs.'), Document(page_content=\"Projects \\nBipin has completed quite a lot of projects. These can be found on this CV Some of them are Domain Enhanced Chatbots detail: Retrieval Augmented Generation (RAG) for an opensource project 400 million sentences knowledge base and Used embedding vectors and Chroma DB and Employed memory to keep the context of the conversation. The code is available at github.com/bipinadk/LLM-Chatbot-for-Odeuropa. In this Project, he worked with a group of 2 people and 2 supervisors.\\nAnother one is Bayesian Graph Neural Network confidence testing, where he investigated the common problem with GNNs to underconfidently predict. and looked at Bayesian GNN which somehow solved this problem.\\nAnother Project he did was:  Anomalous Sound Detection, where he identified unfamiliar anomalous sounds on faulty machines using DBScan, and CNNS on semi semi-supervised model.\\nFinally, This website (portfolio chatbot)adhikari.pages.dev is one of his personal projects where he created a chatbot in which people can ask questions about him. It retrieves information about Bipin from a pinecone database passes it to openai gpt, and returns relevant answers to anyone asking the question. The impressive part of this project is that the website is entirely client-side using react, so he doesn't need to host it in a server or serverless architecture.\"), Document(page_content='Technical Skills Libraries Programming Languages\\nLLM/ RAG/ NLP ,Docker Swarm/Kubernetes Jenkins/ Git Triggers Python/ Java/ JavaScript Vector Databases/ Pinecone/ ChromaDB Bash/ Linux Py torch/ TensorFlow/ many other ML libraries CNNs/ GANs/ ResNet React/ Node SQL/ NoSQL DBs and other things closely related to these.'), Document(page_content='Soft Skills\\nAdaptability, Resilience, Creativity, Problem-Solving, Collaboration'), Document(page_content='Languages\\nBipin and fluent in English with an Ielts score of 8. He has limited working proficiency in French which he is learning constantly. His native languages are Nepali and Hindi. speaking, converstations, etc etc.')]\n"
     ]
    }
   ],
   "source": [
    "print(docs)"
   ]
  },
  {
   "cell_type": "code",
   "execution_count": 11,
   "metadata": {
    "id": "6RbP2bUMqBlj"
   },
   "outputs": [],
   "source": [
    "from langchain_openai import OpenAIEmbeddings\n",
    "from langchain_pinecone import PineconeVectorStore\n",
    "from tqdm.autonotebook import tqdm\n",
    "\n",
    "embeddings = OpenAIEmbeddings()\n",
    "index_name = os.environ['PINECONE_INDEX_NAME'] ## Name of your pinecone index"
   ]
  },
  {
   "cell_type": "code",
   "execution_count": 17,
   "metadata": {},
   "outputs": [
    {
     "data": {
      "text/plain": [
       "'portfolio'"
      ]
     },
     "execution_count": 17,
     "metadata": {},
     "output_type": "execute_result"
    }
   ],
   "source": [
    "os.environ['PINECONE_INDEX_NAME']"
   ]
  },
  {
   "cell_type": "code",
   "execution_count": 24,
   "metadata": {},
   "outputs": [
    {
     "name": "stdout",
     "output_type": "stream",
     "text": [
      "<generator object GRPCIndex.list at 0x000002CDA1F47060>\n"
     ]
    }
   ],
   "source": [
    "# pip install pinecone-client[grpc]\n",
    "from pinecone.grpc import PineconeGRPC as Pinecone\n",
    "pc = Pinecone(api_key=os.environ['PINECONE_API_KEY'])\n",
    "index = pc.Index(os.environ['PINECONE_INDEX_NAME'])\n",
    "\n"
   ]
  },
  {
   "cell_type": "code",
   "execution_count": 33,
   "metadata": {},
   "outputs": [
    {
     "data": {
      "text/plain": []
     },
     "execution_count": 33,
     "metadata": {},
     "output_type": "execute_result"
    }
   ],
   "source": [
    "#delete all previous ids to keep things clean\n",
    "index.delete(delete_all=True)"
   ]
  },
  {
   "cell_type": "code",
   "execution_count": 34,
   "metadata": {
    "id": "6RbP2bUMqBlj"
   },
   "outputs": [],
   "source": [
    "docsearch = PineconeVectorStore.from_documents(docs, embeddings, index_name=index_name)"
   ]
  },
  {
   "cell_type": "markdown",
   "metadata": {
    "id": "d5pbTwxXvrFU"
   },
   "source": [
    "Below is the code if you want to add more text. Keep in mind that there are multiple ways, below code is useful if you want to add each chunk seperately or, use a textsplitter again to create docs."
   ]
  },
  {
   "cell_type": "code",
   "execution_count": null,
   "metadata": {
    "id": "IUvnUMQ0vdUW"
   },
   "outputs": [],
   "source": [
    "# vectorstore = PineconeVectorStore(index_name=index_name, embedding=embeddings)\n",
    "# vectorstore.add_texts([\"More text!\"])"
   ]
  },
  {
   "cell_type": "markdown",
   "metadata": {
    "id": "uJLdE9hDwF08"
   },
   "source": [
    "Test your vector database with similarity search on any query and see if the results are as you expected. If not, some things can be tried like.\n",
    "- Checking if the text is chunked correctly\n",
    "- Check if text has relavent information is a way that computers can understand that they are related (meaning things like pronouns can confuse the search)"
   ]
  },
  {
   "cell_type": "code",
   "execution_count": null,
   "metadata": {
    "id": "oFj6jp4qwE-o"
   },
   "outputs": [],
   "source": [
    "query = \"What is his phone number?\"\n",
    "result = docsearch.similarity_search(query)\n",
    "for item in result:\n",
    "    print(item)\n"
   ]
  },
  {
   "cell_type": "markdown",
   "metadata": {
    "id": "JXwpklpDqNNt"
   },
   "source": [
    "If needed Test your open ai key with embeddings"
   ]
  },
  {
   "cell_type": "code",
   "execution_count": 113,
   "metadata": {
    "colab": {
     "base_uri": "https://localhost:8080/"
    },
    "id": "eV6yue8DGiws",
    "outputId": "252b434a-eb92-4e59-8f26-b8bf8c8e6835"
   },
   "outputs": [
    {
     "name": "stdout",
     "output_type": "stream",
     "text": [
      "{'object': 'list', 'data': [{'object': 'embedding', 'index': 0, 'embedding': [-0.013752735, 0.011258749, 0.009468028, -0.01655277, -0.020980734, 0.029615264, -0.01738627, 0.005889843, -0.025044043, 0.008849416, 0.022204937, 0.013987157, -0.00071466033, 0.007833589, -0.0023539837, 0.006218685, 0.025343582, -0.008875463, 0.027713845, -0.018206745, -0.031021794, 0.0054535586, -0.0013845527, -0.007247535, -0.018154653, 0.0025477072, 0.005043321, 0.010705254, -0.004476802, -0.028469203, 0.019717462, -0.017503481, -0.010868046, -0.023481233, -0.025890566, 0.02465334, -0.011473636, -0.0033112054, 0.019079315, -0.008432667, 0.028052453, 0.007807542, -0.009324771, -0.019157456, -0.014078321, 0.0016816496, -0.014104367, -0.01304947, -0.002643755, 0.019652346, 0.006850321, 0.017138826, 0.013290403, -0.030865513, -0.0043042414, 0.0042749387, -0.007084742, 0.009409423, -0.028026408, 0.010132223, 0.022048656, -0.015159265, -0.0098457085, -0.01038618, -0.004486569, 0.012567604, 0.005349371, 0.01894908, -0.0033958575, 0.016982544, 0.023416115, 0.032688793, 0.0022042145, -0.030578999, 0.0057693766, -0.010028036, 0.0038907477, 0.0026811974, -0.022035632, 0.01635742, 0.0014822284, -0.05360441, -0.007521027, 0.016709052, 0.017412318, 0.009292212, -0.00066012476, 0.015784388, -0.028130595, 0.0057075154, 0.012215971, 0.03933074, 0.008855928, -0.007319164, -0.0067200866, -0.01681324, -0.04154472, 0.02465334, -0.011421543, -0.0021342135, -0.004655874, -0.008282897, 0.007651261, -0.011499682, -0.022830062, -0.0005359953, 0.0034088811, -0.023976123, 0.003773537, -0.018610472, 0.01224853, 0.03727304, 0.0033063216, -0.011662476, -0.0034967891, -0.0075340504, 0.01202062, -0.017477434, -0.03899213, -0.029953873, 0.02568219, 0.027062673, 0.020108165, -0.007097766, 0.0231296, 0.019391878, -0.027739892, -0.024392871, 0.003591209, -0.0019030478, 0.019600252, -0.006055892, 0.01704766, 0.0046819206, -0.0070391605, 0.034173463, -0.00060681015, 0.011167586, -0.026111964, -0.032558557, 0.0029009676, 0.0075926557, 0.0041935425, 0.014078321, -0.010959211, 0.021736093, 0.02164493, -0.0018021162, -0.0071303244, -0.02404124, 0.015510897, 0.0012176901, 0.02047282, 0.015667178, -0.01715185, 0.023064483, -0.025330558, 0.012912724, -0.0066061313, -0.02477055, -0.01845419, 0.028833859, 0.032245997, -0.005684724, -0.008875463, 0.034121368, -0.0014732748, 0.013895993, 0.006687528, 0.00023462511, 0.0039688884, 0.029875733, -0.011063398, 0.008165686, -0.010718278, 0.009787102, 0.01837605, -0.0030670161, 0.00048756442, -0.00749498, -0.025382653, 0.018779777, 0.009292212, 0.04409731, -0.007742425, 0.00087663915, 0.0027463145, -0.027218955, 0.024210544, -0.00022913085, 0.005574025, 0.016956497, 0.01403925, -0.0073712575, -0.66846627, -0.026828252, -0.00591589, 0.01133689, 0.009298724, 0.025421722, 0.015680201, 0.008276385, -0.030839466, 0.008719182, 0.004004703, 0.021631906, -0.0101647815, -0.008575925, -0.00035346384, -0.012899701, 0.002415845, -0.0173472, 0.00821778, -0.0036433027, -0.012424346, -0.0130755175, 0.0019828163, -0.008230804, 0.019704439, -0.0080224285, 0.011955502, -0.005534955, -0.015016007, 0.0073061404, -0.021827258, 0.013296915, 0.011942479, -0.0056293746, 0.042847063, -0.024223568, -0.012255041, 0.009897802, 0.0008733833, 0.019183503, -0.019912815, -0.019652346, 0.028391063, -0.010158271, -0.018662566, -0.008315456, 0.015094148, -0.00038500494, 0.002575382, 0.017099755, 0.008569413, -0.007293117, -0.004789364, 0.0050042504, 0.014703445, -0.017373247, 0.010907117, -0.008354526, -0.033522293, -0.021436555, -0.004043773, -0.0015204847, -0.0039623766, -0.0049358774, 0.010366645, 0.0039591207, -0.02792222, 0.023806818, 0.030292483, -0.0025591026, 0.004408429, 0.020498868, -0.0015253684, 0.019756533, 0.008237315, -0.0065052, 0.026255222, -0.013055982, -0.005264719, 0.00882337, 0.0034056252, 0.003500045, -0.017008591, -0.018180698, 0.005665189, -0.014104367, -0.01894908, 0.013661571, 0.02990178, -0.004974948, 0.029354796, 0.012079225, 0.018323956, -0.00067070633, -0.003864701, 0.027479423, -0.0013112959, 0.006368454, 0.0042163334, -0.011551777, -0.015289499, -0.0034512072, 0.03922655, 0.016149044, 0.018389074, -0.016800215, -0.016591841, 0.015536944, 0.0309697, -0.019456994, 0.015198335, 0.0018704892, -0.0047763404, -0.009969431, 0.024132403, -0.015927646, 0.030552952, 0.030995747, 0.0066582253, -0.024549153, -0.014065297, -0.021215156, 0.0075145154, -0.0074233515, 0.0032379485, 0.010060594, 0.004004703, -0.0026291036, -0.0021960747, -0.0013601338, 0.011434565, -0.035658132, 0.032766934, -0.02172307, 0.025499864, -0.0006438455, 0.027948266, -0.00726707, 0.011668988, 0.0074493983, -0.019235596, -0.006475897, 0.0012233878, 0.00094012835, -0.0103731565, -0.022465406, 0.016956497, -0.015289499, -0.028443156, 0.00821778, 0.006000542, -0.013055982, 0.022530522, 0.026580807, 0.014755539, -0.018584425, -0.003636791, -0.0047698286, -0.0031060865, -0.017256036, 0.009227095, 0.008374061, -0.024822645, 0.0014049019, 0.01639649, -0.018701635, 0.0239631, 0.0066028754, 0.025877543, -0.016539747, -0.009253142, -0.0012461789, -0.011753639, 0.01148666, -0.0134271495, 0.0017467666, -0.005375418, 0.0019909558, -0.009819661, -0.016383467, 0.00465913, -0.0005579723, -0.00071710226, 0.010601067, 0.034121368, -9.431807e-05, -0.009676403, 0.05253649, -0.008074522, 0.020251423, -0.027870126, -0.0036237675, -0.009735009, 0.025291488, 0.025538933, 0.029511077, 0.024067286, 0.017360223, 0.015732296, 0.0251873, 0.019118385, 0.014416929, 0.026437549, -0.015002984, 0.0045028487, 0.0032542278, -0.005290766, -0.019925838, 0.045529887, 0.012072713, 0.0019030478, -0.016917426, -0.0065833405, 0.021045852, -0.003591209, -0.005909378, -0.0068893908, 0.01338808, -0.0024891018, 0.012085737, 0.023598444, 0.0026974767, 0.022934249, -0.013570407, 0.0012974585, 0.0086540645, 0.017008591, 0.02408031, -0.0037377225, -0.005899611, -0.023220764, -0.008914533, 0.0033372522, 0.015732296, 0.0043921494, 0.011864339, 0.01133689, -0.032897167, 0.03211576, 0.011779686, -0.003858189, 0.023533326, 0.041492626, -0.011232703, -0.007319164, 0.011623405, 0.018441167, -0.008432667, 0.0156020615, 0.026033822, 0.01008013, 0.004486569, -0.011857827, 0.015810436, 0.013804829, 0.0029400378, -0.027870126, 0.0018460703, 0.007156371, 0.012704349, 0.0075731208, 0.008588947, 0.020173283, -0.006068915, 0.024028216, -0.0073452108, 0.014833679, -0.0010003617, -0.0034088811, -0.008432667, -0.010763859, 0.0033763226, 0.005264719, -0.00041023784, 0.004734014, 0.0076252143, 0.018623495, -0.02800036, 0.014260649, -0.011968526, -0.010887582, -0.032324135, 0.016409513, 0.02415845, 0.0042554038, -0.00787266, -0.005912634, -0.0011867594, -0.007944289, 0.013453197, -0.005912634, 0.009715474, -0.005271231, -0.004991227, 0.00080297544, -0.0011118748, 8.444876e-05, -0.015380663, -0.009819661, 0.0051377406, 0.0087582525, 0.018805824, 0.0013845527, -0.018610472, 0.033912994, -0.0028325946, -0.01114805, -0.02019933, 0.009975942, -0.013042958, -0.008334991, -0.005534955, -0.012209459, 0.0014504838, 0.016904404, 0.006394501, -0.016943473, -0.007521027, 0.034746494, 0.0040307497, -0.0065833405, 0.0034870217, -0.010151759, -0.016604865, 0.10194736, 0.03800235, 0.013121099, 0.013095052, -0.0028309666, 0.00863453, -0.024640316, -0.036100928, 0.008107081, -0.008947092, -0.0020479334, -0.019157456, -0.018154653, 0.007475445, 0.0057726325, 0.0018379306, 0.023637513, 0.009181513, 0.022895178, -0.035059057, -0.017868137, 0.02841711, -0.00045256395, 0.034668352, 0.014885773, 0.01696952, 0.014729491, -0.0006617527, -0.001831419, -0.01133689, -0.0062512434, 0.01304947, 0.018740706, -0.026033822, -0.013231798, 0.033756714, -0.019430948, 0.01936583, 0.009337795, 0.0012624582, 0.02035561, 0.011994573, -0.002397938, -0.012411322, 0.021527719, -0.015615084, -0.003229809, 0.024366826, 0.0054763495, 0.00070122996, 0.03584046, 0.0011110608, 0.0041935425, -0.025708238, -0.010588043, 0.013016911, -0.0350851, -0.008380573, -0.03578837, -0.0077749835, -0.0156020615, -0.0006503572, 0.027765939, -0.0036498143, -0.010939675, -0.040659126, -0.015068101, -0.014351812, -0.023481233, -0.025695214, 0.011551777, -0.0076056793, -0.02247843, 0.015211359, 0.024067286, 0.014208555, 0.00798987, -0.0006251243, -0.03211576, 0.011714569, 0.015250429, -0.034642305, 0.014182508, -0.0041349367, -0.019144433, 0.019535135, 0.0016800216, -0.008517318, -0.0056130956, 0.021110969, 0.02899014, -0.007540562, -0.00078506826, -0.0280785, -0.012209459, -0.02716686, -0.0072019533, 0.007807542, -0.031829245, 0.018545356, 0.008315456, -0.026138011, -0.00038276656, 0.002080492, -0.001421995, 0.01631835, 0.027192907, 0.023233788, -0.02469241, 0.00943547, 0.012756444, -0.021710047, 0.021045852, 0.01639649, -0.0013755991, 0.02800036, 0.03195948, 0.006212173, -0.011597359, -0.004154472, 0.024288684, -0.0245752, 0.021553766, 0.015784388, -0.017073708, -0.017216966, -0.00519309, -0.030422717, -0.009038256, 0.00601031, 0.020889571, 0.006208917, -0.021332368, -0.020863524, -0.02065515, -0.017594645, 0.00669404, 0.03039667, 0.008608483, 0.0003634349, -0.012242018, -0.028938048, -0.016096951, 0.01825884, -0.025343582, -0.021553766, 0.0051409965, 3.543287e-05, -0.01243737, 0.020043049, -0.023311928, 0.01814163, -0.007963823, -0.009617798, -0.016643936, -0.0054144883, 0.0020365377, 0.0027414307, 0.017620692, 0.0043758703, 0.023767747, -0.004607036, 0.0137787815, 0.005531699, -0.02354635, 0.007996382, -0.026190104, 0.024314731, -0.014599257, 0.024601247, 0.033418104, 0.021996561, 0.001242923, 0.039851677, -0.008901509, 0.0112522375, 0.012834583, -0.0014496698, -0.0030588766, -0.016188115, -0.01704766, -0.005111694, -0.020173283, -0.0078466125, -0.015719272, 0.014273672, -0.0017011847, 0.002370263, -0.010067106, -0.011343402, -0.0049065747, -0.01788116, 0.02659383, -0.015758343, 0.0071042776, -0.021358414, -0.01833698, 0.0028618972, 0.014716469, 0.01308854, -0.0077814953, 0.015159265, -0.0021179342, -0.00821778, 0.0010052455, -0.008432667, -0.014442977, -0.013492267, 0.019417925, -0.0041284254, -0.012281088, -0.01069223, -0.025591027, -0.020069096, 0.0063521746, 0.015771365, 0.0011607126, 0.012938771, 0.0030800395, -0.035996743, -0.007110789, 0.018063487, 0.021032829, 0.009702451, 0.01564113, 0.032272045, -0.019795604, -0.006205661, 0.022647733, -0.0112522375, -0.014182508, 0.008458713, 0.0029709684, -0.014755539, -0.022348195, 0.015367639, -0.019990955, 0.001242109, -0.018584425, 0.0070521836, 0.007807542, -0.0106206015, -0.002528172, -0.0010158271, -0.033991136, 0.02370263, -0.0092857005, 0.009656868, -0.021319345, -0.013023423, -0.027114768, 0.0060819387, -0.016761146, 0.019652346, 0.012997377, -0.00034023693, 0.012092249, -0.032506466, 0.015719272, -0.008269873, -0.01548485, 0.021137016, -0.017998371, 0.019938862, -0.001376413, -0.009552681, -0.030552952, 0.0012999005, 0.025031019, 0.020420728, -0.012176901, -0.010223388, 0.0067461333, -0.011232703, 0.0051377406, 0.0053884415, -0.006554038, -0.008641042, -0.017803019, -0.0066061313, 0.02708872, -0.0014968797, -0.020759337, 0.010203852, -0.020902595, -0.047379214, -0.021957492, -0.0020056071, 0.015289499, -0.01784209, -0.020485844, -0.030240389, 0.012417834, 0.00014783621, 0.0030995747, 0.003955865, 0.0187928, 0.028469203, -0.026164057, -0.0049814596, 0.00011436194, 0.009044767, -0.02259564, 0.023950076, 0.0045516863, -0.037429318, -0.013186216, 0.0014333905, -0.012189924, -0.0010003617, 0.026698017, -0.010750836, 0.0037963279, -0.0049293656, -0.00745591, 0.030136202, 0.01639649, -0.022830062, -0.025994753, 0.03709071, -0.008321968, -0.004743782, -0.010190829, 0.016839286, 0.02370263, 0.005108438, -0.0016686261, 0.029719451, 0.005808447, -0.018089535, -0.01564113, 0.016878357, -0.0010483856, -0.011317355, -0.022764944, 0.013316451, -0.009708962, 0.015953694, -0.025812425, 0.008992674, -0.00020033689, 0.01883187, 0.0081266165, 0.008797322, -0.003656326, -0.019678393, -0.035475805, -0.01544578, -0.04558198, -0.025968706, -0.009982454, 0.012242018, -0.017256036, -0.0047079674, -0.011349914, -0.0050693676, -0.018519308, 0.0052386723, -0.014846703, -0.0074493983, -0.0014667631, -0.018975127, -0.012235506, 0.004672153, 0.002368635, 0.03039667, 0.016188115, -0.0074493983, 0.0007728588, -0.0017744415, 0.0031435287, 0.0071498593, -0.008041964, 0.0013739711, 0.008387085, 0.0026486388, 0.013635525, 0.016904404, -0.0071433475, 0.007006602, -0.021137016, -0.023220764, -0.020003978, 0.039356787, -0.00669404, -0.016565794, -0.022335172, -0.0016043229, 0.013303427, -0.007182418, -0.004476802, -0.004652618, -0.020043049, -0.0009409423, -0.009676403, -0.014560187, 0.011616894, 0.00031663198, 0.0005514606, 0.007976847, -0.012561092, -0.010145247, 0.0039623766, -0.017073708, 0.008120105, -0.000722393, -0.04055494, 0.008842904, 0.011734105, -0.015680201, -0.020889571, -0.00018588902, -0.012033643, -0.0350851, 0.006554038, 0.004974948, -0.0030116667, -0.011903409, 0.01837605, 0.009279189, -0.02997992, -0.029849686, -0.010125712, -0.017503481, -0.0060168216, -0.01944397, 0.0156020615, 0.003272135, -0.025773354, 0.016461607, -0.014625304, -0.02716686, 0.008120105, 0.0014862982, -0.0024646828, 0.019118385, 0.21118784, -0.010842, 0.00022790991, 0.018350003, 0.011239215, 0.014442977, 0.015758343, 0.020212352, -0.006928461, 0.008588947, 0.001379669, -0.01358343, -0.009923848, 4.7667763e-05, -0.0058735637, -0.019079315, -0.04560803, -0.009871755, -0.013791805, -0.01974351, -0.009819661, -0.0014496698, -0.0026274757, -0.00022994482, 0.017816043, 0.011219679, -0.023403091, 0.024145426, 0.014729491, 0.00072809076, -0.011668988, -0.007827077, 0.028625485, 0.0010882699, -0.016787192, -0.012873654, 0.00022628198, 0.018623495, 0.018532332, 0.006928461, 0.02354635, -0.012157366, -0.022504475, -0.008400108, 0.02544777, 0.012261553, 0.0068112505, -0.011545265, 0.012541557, 0.039695393, -0.03479859, -0.021736093, 0.008641042, 0.037194896, -0.008497784, -0.017060684, 0.0075340504, 0.007234512, -0.021137016, 0.013948087, 0.029849686, 0.022921225, 0.0075145154, -0.0051442524, -0.006915438, 0.023311928, -0.020824455, -0.0052223927, 0.004961924, -0.01677417, 0.0076056793, -0.015914623, -0.006856832, 0.011128515, -0.040164236, -0.035814416, 0.012977841, 0.032428324, 0.01631835, 0.018245816, 0.008667088, 0.0052484395, 0.003138645, 0.015432756, -0.017190918, -0.015211359, 0.023559373, -0.011271773, 0.010939675, 0.0070521836, 0.0056391424, -0.0245752, -0.015172288, -0.021996561, 0.0062512434, 0.021163063, -0.0036888847, 0.039903767, -0.00090024417, -0.00027735822, 0.005606584, 0.010946187, -0.003568418, -0.018610472, -0.026294291, -0.015719272, 0.02047282, 0.018115582, 0.0026258477, 0.0022270053, -0.015068101, -0.017685808, 0.011864339, 0.005596816, 0.030188296, -0.0011257122, 0.015706249, -0.030266436, 0.0027284073, -0.0065735728, 0.02176214, -0.031360403, -0.010607578, 0.03138645, 0.016227186, -0.0059517045, -0.0028912, -0.011056886, 0.00016767658, -0.023767747, 0.007833589, 0.014794609, 0.027739892, -0.02247843, -0.0231296, 0.013531337, 0.017581621, 0.021202134, -0.016331373, -0.0081266165, -0.0052419277, -0.036882333, 0.009155466, -0.014651352, -0.0053005335, -0.028625485, 0.008432667, -0.003389346, -0.001717464, -0.0245752, -0.0063098487, -0.03808049, -0.026385456, 0.00329981, 0.023520302, 0.0029872477, -0.021553766, -0.043394048, 0.010301528, -0.023793794, 0.017894184, 0.0040470287, 0.015315546, 0.0035293477, -0.022322148, 0.00772289, -0.16669981, 0.010314551, 0.022270054, -0.01327738, 0.009728497, 0.009910825, -0.0027479422, 0.0019763045, -0.018011395, 0.011512706, 0.019795604, -0.0146904215, -0.011226191, -0.010985258, -0.009982454, -0.006908926, 0.004541919, 0.019027222, 0.007716378, 0.005486117, 0.009064303, 0.014208555, -0.0051442524, 0.03435579, 0.031152029, 0.0016995567, -0.013869946, 0.021475624, -0.0042781946, -0.01293226, -0.026138011, -0.0126196975, -0.013069006, -0.003185855, 0.011115491, -0.012502487, -0.0041935425, 0.00604938, 0.0044409875, 0.022074703, 0.014872749, 0.027297094, 0.004633083, 0.019014198, -0.023272857, 0.017750926, 0.021449579, -0.009240119, 0.0029937595, -0.02019933, 0.012873654, -0.027870126, -0.023858912, 0.007045672, 0.013596454, 0.0061731027, -5.6417877e-05, 0.013179705, 0.020003978, 0.0011012933, -0.028026408, -0.01754255, 0.00027837566, -0.014651352, -0.012294112, -0.0179593, -0.0028358505, -0.010308039, -0.04120611, 0.025460793, 0.011467124, -0.0119880615, 0.01540671, -0.0073712575, 0.01491182, 0.018779777, -0.039851677, 0.0118838735, 0.001263272, -0.0034186486, 0.010190829, 0.02510916, -0.028781766, -0.013869946, -0.011909921, 0.0012673419, 0.020420728, 0.011493171, 0.014078321, -0.014456, 0.0132513335, -0.019105362, 0.005749841, -0.027765939, 0.048368994, 0.011968526, 0.03972144, 0.0046656416, 0.0004338428, -0.018740706, 0.0055023963, -0.03404323, -0.015263452, 0.016031833, 0.021462603, 0.0026242197, -0.013375056, 0.019834673, 0.0015310663, 0.0023181695, -0.027844079, 0.003031202, 0.019470017, 0.030292483, 0.009669892, 0.015589038, -0.01564113, -0.024184497, 0.009194537, -0.00021529346, 0.04511314, 0.012867142, -0.015263452, -0.0022937504, 0.013856922, -0.016643936, -0.075640045, 0.012131318, 0.016709052, 0.019118385, -0.009370353, 0.04094564, -0.0017500225, 0.02536963, -0.009481052, 0.053969067, -0.011265261, -0.007325676, -0.011655964, -0.011975038, -0.010672695, -0.010015013, -0.024809621, 0.00040331914, -0.011467124, 0.026294291, -0.024965903, -0.015732296, 0.005587049, 0.005434023, -0.012535045, -0.00519309, -0.02667197, 0.018714659, 0.007228, 0.0034088811, -0.0065019443, -0.006934973, 0.011929456, -0.018714659, -0.015576014, 0.013804829, -0.023403091, -0.011219679, 0.012209459, -0.04055494, -0.016539747, -0.00465913, -0.013303427, -0.027687797, -0.0030621325, -0.0134271495, -0.003949353, 0.009767568, 0.010815953, -0.027974313, -0.019600252, 0.025200324, -0.042065658, 0.0018542099, 0.016839286, -0.024184497, 3.276205e-05, 0.029797593, -0.0004940761, 0.0043693585, 0.003389346, -0.005938681, -0.013257845, 0.010763859, 0.00063529884, -0.00031012026, -0.0054796054, -0.02138446, 0.02655476, 0.008517318, 0.004245636, 0.0034512072, -0.02708872, 0.0123396935, -0.034512073, -0.010809441, -0.010242922, -0.0007740797, -0.013114587, -0.020746313, 0.004476802, -0.010763859, -0.00787266, -0.009721985, 0.0067135748, -0.0022742152, -0.01350529, -0.015302522, 0.0059972866, -0.023911005, 0.010067106, 0.02415845, 0.009689427, -0.011701546, -0.0005600072, -0.0056586773, -0.01278249, 0.0065670614, 0.0231296, -0.009018721, -0.02286913, -0.0069935783, -0.06365849, 0.028599437, -0.016656958, -0.01597974, -0.0025037532, -0.033157635, 0.032558557, -0.027844079, 0.002371891, 0.014247625, 0.00034593468, 0.020550963, -0.001671882, 0.0031988784, -0.03081342, -0.0060851946, 0.02708872, -0.019196525, -0.0034707424, 0.015185311, -0.010106176, 0.009793614, -0.0069935783, 0.013713664, 0.005170299, 0.010086642, -0.043107532, -0.004248892, -0.032167856, -0.019977931, 0.0173472, -0.04089355, -0.012717373, 0.012320158, 0.0034805099, -0.023259833, 0.0034056252, 0.0006373338, -0.017399294, -0.0045093605, -0.009539657, -0.017633716, 0.006052636, -0.014117391, 0.007084742, 0.016083928, -0.0056293746, 0.009005697, 0.0113564255, 0.01693045, 0.009806638, 0.017503481, -0.02172307, -0.0046005244, 0.0038907477, -0.023259833, -0.0005266347, -0.030344576, 0.02279099, -0.0064107804, 0.021032829, 0.019131409, 0.014612281, -0.0144820465, 0.025135208, 0.006681016, 0.0012624582, 0.015654154, 0.004675409, -0.05740725, -0.014312742, -0.011161074, 0.010125712, 0.019639323, 0.008081034, -0.0015383919, -0.014716469, -0.0023100297, -0.013713664, 0.019834673, 0.016070904, -0.0034609747, -0.011447589, -0.011434565, 0.016136022, 0.020785384, -0.013635525, -0.014273672, 0.017177895, 0.0071173008, -0.04698851, 0.009233607, -0.0068242736, -0.023337975, 0.02138446, -0.0022758432, 0.003161436, -0.021970516, 0.024067286, 0.020746313, -0.013309939, -0.0029660848, -0.020056073, -0.026229175, -0.012769466, 0.007273582, -0.0021830513, -0.045712218, -0.003457719, 0.0018004883, -0.0035293477, 0.015615084, 0.01681324, 0.024366826, -0.0025346838, 0.015836483, 0.009201049, -0.0051670433, -0.022387264, 0.055323504, -0.0040079583, -0.0022042145, 0.018701635, -0.00064262457, 0.0077749835, 0.0071433475, 0.0109006055, -0.014573211, 0.005596816, -0.0055610016, -0.011512706, -0.009468028, -0.0015489734, -0.008530342, -0.015654154, -0.0053005335, -0.007918241, 0.030240389, 0.0011110608, 0.066471554, -0.013726688, -0.016149044, 0.019535135, 0.025200324, 0.011766663, 0.008308944, -0.017282084, -0.024965903, -0.0095657045, 0.029224562, -0.0016539748, 0.015341593, -0.0016914171, 0.016617889, -0.03362648, 0.005691236, 0.01867559, -0.026294291, 0.00048227364, 0.01887094, -0.00039314458, -0.01643556, 0.014117391, -0.024002168, -0.017216966, 0.0051572756, 0.0023604955, -0.025799401, -0.046285246, 0.015354617, -0.0054568145, -0.011662476, 0.0027935244, 0.008953604, -0.031412497, -0.01825884, -0.026320338, 0.028130595, 0.019235596, -0.025473816, 0.02047282, -0.029927827, -0.01932676, 0.00329981, 0.009826173, -0.023403091, -0.005271231, -0.0346944]}], 'model': 'text-embedding-ada-002', 'usage': {'prompt_tokens': 5, 'total_tokens': 5}}\n"
     ]
    }
   ],
   "source": [
    "import requests\n",
    "\n",
    "def get_embedding(msg):\n",
    "    OPENAI_API_KEY = \"\"\n",
    "    url = \"https://api.openai.com/v1/embeddings\"\n",
    "    headers = {\n",
    "        \"Content-Type\": \"application/json\",\n",
    "        \"Authorization\": f\"Bearer {OPENAI_API_KEY}\"\n",
    "    }\n",
    "    data = {\n",
    "        \"input\": msg,\n",
    "        \"model\": \"text-embedding-ada-002\"\n",
    "    }\n",
    "\n",
    "    try:\n",
    "        response = requests.post(url, headers=headers, json=data)\n",
    "        response.raise_for_status()  # Raise error for bad response status\n",
    "\n",
    "        responseData = response.json()\n",
    "        return responseData\n",
    "    except requests.exceptions.HTTPError as err:\n",
    "        print(f\"Error fetching data: {err}\")\n",
    "        raise  # Re-raise the error to handle it in the calling code\n",
    "\n",
    "# Example usage:\n",
    "embedding = get_embedding(\"What is his phone number\")\n",
    "print(embedding)\n"
   ]
  },
  {
   "cell_type": "markdown",
   "metadata": {
    "id": "4U-rOEPAqSqo"
   },
   "source": [
    "If needed Test your pinecone api key and url"
   ]
  },
  {
   "cell_type": "code",
   "execution_count": null,
   "metadata": {
    "id": "iqL9keHvG0Ew"
   },
   "outputs": [],
   "source": [
    "def getsimilarity(embeddings):\n",
    "    PineconeKey = \"\"\n",
    "    url = \"indexurl/query\"\n",
    "    headers = {\n",
    "        \"Api-Key\": PineconeKey,\n",
    "        \"Content-Type\": \"application/json\"\n",
    "    }\n",
    "    data = {\n",
    "        \"vector\": embeddings,\n",
    "        \"includeMetadata\": \"True\",\n",
    "        'topK': 3,\n",
    "    }\n",
    "\n",
    "    try:\n",
    "        response = requests.post(url, headers=headers, json=data)\n",
    "        response.raise_for_status()  # Raise error for bad response status\n",
    "\n",
    "        responseData = response.json()\n",
    "        return responseData\n",
    "    except requests.exceptions.HTTPError as err:\n",
    "        print(f\"Error fetching data: {err}\")\n",
    "        raise  # Re-raise the error to handle it in the calling code\n",
    "\n",
    "# Example usage:\n",
    "results = getsimilarity(embedding['data'][0]['embedding'])\n",
    "print(results)"
   ]
  },
  {
   "cell_type": "code",
   "execution_count": null,
   "metadata": {
    "id": "wDfPGhWHRwjx"
   },
   "outputs": [],
   "source": []
  }
 ],
 "metadata": {
  "colab": {
   "authorship_tag": "ABX9TyMz/oPF7fcoig9yzoFfzdfD",
   "provenance": []
  },
  "kernelspec": {
   "display_name": "Python 3 (ipykernel)",
   "language": "python",
   "name": "python3"
  },
  "language_info": {
   "codemirror_mode": {
    "name": "ipython",
    "version": 3
   },
   "file_extension": ".py",
   "mimetype": "text/x-python",
   "name": "python",
   "nbconvert_exporter": "python",
   "pygments_lexer": "ipython3",
   "version": "3.10.13"
  }
 },
 "nbformat": 4,
 "nbformat_minor": 4
}
